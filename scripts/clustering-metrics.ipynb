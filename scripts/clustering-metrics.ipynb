{
 "cells": [
  {
   "cell_type": "markdown",
   "id": "f783a3c7-fc16-4057-9874-1b44c2ddf57f",
   "metadata": {},
   "source": [
    "## *Elements of Machine Learning* 2023\n",
    "### <font size=3 color='gray'>Alan Reyes-Figueroa</font>"
   ]
  },
  {
   "cell_type": "code",
   "execution_count": 1,
   "id": "9529a62a-680c-4ae0-8ee7-1ac0aaa31d72",
   "metadata": {},
   "outputs": [],
   "source": [
    "import numpy as np\n",
    "import pandas as pd\n",
    "import matplotlib.pyplot as plt\n",
    "\n",
    "from sklearn.metrics import rand_score, adjusted_rand_score, homogeneity_completeness_v_measure\n",
    "from sklearn.metrics import mutual_info_score, normalized_mutual_info_score, adjusted_mutual_info_score\n",
    "from sklearn.metrics import homogeneity_score, completeness_score, v_measure_score\n",
    "from sklearn.metrics import fowlkes_mallows_score, calinski_harabasz_score\n",
    "from sklearn.metrics import davies_bouldin_score, silhouette_samples, silhouette_score\n",
    "\n",
    "from sklearn.datasets import load_iris\n",
    "from sklearn.cluster import k_means, KMeans, Birch, DBSCAN, OPTICS, mean_shift, KMeans, MeanShift\n",
    "from sklearn.cluster import AgglomerativeClustering, SpectralClustering\n",
    "\n",
    "from warnings import filterwarnings\n",
    "filterwarnings('ignore')"
   ]
  },
  {
   "cell_type": "markdown",
   "id": "89d94304-e792-4044-807c-c13b5e4ed97d",
   "metadata": {},
   "source": [
    "# <center> Metrics for Clustering Methods </font> </center>"
   ]
  },
  {
   "cell_type": "markdown",
   "id": "e27961c2-47c4-47a9-8b21-9bb8d236dc0e",
   "metadata": {},
   "source": [
    "### External Metrics"
   ]
  },
  {
   "cell_type": "code",
   "execution_count": 2,
   "id": "a336c6e2-f0dd-4e3b-89e7-824db9d3c7a6",
   "metadata": {},
   "outputs": [],
   "source": [
    "data = load_iris()"
   ]
  },
  {
   "cell_type": "code",
   "execution_count": 3,
   "id": "2a73bcb9-1e8b-4c49-a416-3dd5ddbd4236",
   "metadata": {},
   "outputs": [],
   "source": [
    "XX = data['data']\n",
    "yy = data['target']"
   ]
  },
  {
   "cell_type": "code",
   "execution_count": 4,
   "id": "b14ad260-3c30-48bc-96ff-89018c5c9531",
   "metadata": {},
   "outputs": [],
   "source": [
    "y = np.array([0, 0, 0, 5, 5, 5, 2, 2, 2, 2])\n",
    "\n",
    "yhat = np.array([0, 0, 0, 0, 1, 1, 2, 2, 2, 2])"
   ]
  },
  {
   "cell_type": "code",
   "execution_count": 5,
   "id": "b0fc181a-3b5c-4567-95ed-8908b5ef6305",
   "metadata": {},
   "outputs": [],
   "source": [
    "RI  = rand_score(y, yhat)\n",
    "ARI = adjusted_rand_score(y, yhat)"
   ]
  },
  {
   "cell_type": "code",
   "execution_count": 6,
   "id": "2d6f50c7-2fc5-4e11-aba0-68b800d7d2b0",
   "metadata": {},
   "outputs": [
    {
     "name": "stdout",
     "output_type": "stream",
     "text": [
      "0.8888888888888888\n",
      "0.7232472324723247\n"
     ]
    }
   ],
   "source": [
    "print(RI)\n",
    "print(ARI)"
   ]
  },
  {
   "cell_type": "code",
   "execution_count": null,
   "id": "b7b22e9b-c6a9-4395-8c9e-32d49a5ee6c9",
   "metadata": {},
   "outputs": [],
   "source": []
  },
  {
   "cell_type": "code",
   "execution_count": 7,
   "id": "a6c3b9f4-cbf1-462d-bf0e-25d9de89a23a",
   "metadata": {},
   "outputs": [],
   "source": [
    "MI  = mutual_info_score(y, yhat)\n",
    "NMI = normalized_mutual_info_score(y, yhat)\n",
    "AMI = adjusted_mutual_info_score(y, yhat)"
   ]
  },
  {
   "cell_type": "code",
   "execution_count": 8,
   "id": "9a77703b-ef6a-435e-a97a-abf19460a171",
   "metadata": {},
   "outputs": [
    {
     "name": "stdout",
     "output_type": "stream",
     "text": [
      "0.8639659174977006\n",
      "0.8060059704030482\n",
      "0.7347541445436012\n"
     ]
    }
   ],
   "source": [
    "print(MI)\n",
    "print(NMI)\n",
    "print(AMI)"
   ]
  },
  {
   "cell_type": "code",
   "execution_count": null,
   "id": "9b2a5f16-bb34-4be0-aaa1-acc110768f8e",
   "metadata": {},
   "outputs": [],
   "source": []
  },
  {
   "cell_type": "code",
   "execution_count": 9,
   "id": "78e1cef2-b0d5-4ca0-a94f-f6a80fa5b5d4",
   "metadata": {},
   "outputs": [],
   "source": [
    "HS = homogeneity_score(y, yhat)\n",
    "CS = completeness_score(y, yhat)\n",
    "V  = v_measure_score(y, yhat, beta=0.1)"
   ]
  },
  {
   "cell_type": "code",
   "execution_count": 10,
   "id": "684a0d2b-1784-4ffc-a432-15e6109da190",
   "metadata": {
    "tags": []
   },
   "outputs": [
    {
     "name": "stdout",
     "output_type": "stream",
     "text": [
      "0.7934300092382587\n",
      "0.8189870131566658\n",
      "0.7956872747795687\n"
     ]
    }
   ],
   "source": [
    "print(HS)\n",
    "print(CS)\n",
    "print(V)"
   ]
  },
  {
   "cell_type": "code",
   "execution_count": 11,
   "id": "dfacb597-00a7-4e6e-9b5f-4c8e43984292",
   "metadata": {},
   "outputs": [],
   "source": [
    "HCV = homogeneity_completeness_v_measure(y, yhat)"
   ]
  },
  {
   "cell_type": "code",
   "execution_count": 12,
   "id": "ed892f58-f92a-495a-9d8b-17d18ddd60ee",
   "metadata": {},
   "outputs": [
    {
     "name": "stdout",
     "output_type": "stream",
     "text": [
      "(0.7934300092382587, 0.8189870131566658, 0.8060059704030482)\n"
     ]
    }
   ],
   "source": [
    "print(HCV)"
   ]
  },
  {
   "cell_type": "code",
   "execution_count": null,
   "id": "b9826820-caf9-48cc-974e-125c78c9a0e2",
   "metadata": {},
   "outputs": [],
   "source": []
  },
  {
   "cell_type": "code",
   "execution_count": 13,
   "id": "8c4dd1cf-a320-4d18-8993-d337f570d424",
   "metadata": {},
   "outputs": [],
   "source": [
    "FMI = fowlkes_mallows_score(y, yhat)"
   ]
  },
  {
   "cell_type": "code",
   "execution_count": 14,
   "id": "77eeab3a-1eeb-49cb-b849-124c5ebbb552",
   "metadata": {},
   "outputs": [
    {
     "name": "stdout",
     "output_type": "stream",
     "text": [
      "0.8006407690254357\n"
     ]
    }
   ],
   "source": [
    "print(FMI)"
   ]
  },
  {
   "cell_type": "code",
   "execution_count": 15,
   "id": "7344e038-5e41-4e44-8e02-b7f3675ffc10",
   "metadata": {},
   "outputs": [],
   "source": [
    "CHI = calinski_harabasz_score(XX, yy)"
   ]
  },
  {
   "cell_type": "code",
   "execution_count": 16,
   "id": "566f9f70-9934-4090-b80f-436690207549",
   "metadata": {},
   "outputs": [
    {
     "name": "stdout",
     "output_type": "stream",
     "text": [
      "487.33087637489984\n"
     ]
    }
   ],
   "source": [
    "print(CHI)"
   ]
  },
  {
   "cell_type": "code",
   "execution_count": 17,
   "id": "25247fa3-f21b-4c4b-a71a-96bb5ccf903b",
   "metadata": {},
   "outputs": [],
   "source": [
    "DB = davies_bouldin_score(XX, yy)"
   ]
  },
  {
   "cell_type": "code",
   "execution_count": 18,
   "id": "911b53f0-9b1b-4ba7-ae64-9eafed8c8f91",
   "metadata": {},
   "outputs": [
    {
     "name": "stdout",
     "output_type": "stream",
     "text": [
      "0.7513707094756764\n"
     ]
    }
   ],
   "source": [
    "print(DB)"
   ]
  },
  {
   "cell_type": "markdown",
   "id": "be595eda-c324-4c25-83ef-b9014112be20",
   "metadata": {},
   "source": [
    "### Test"
   ]
  },
  {
   "cell_type": "code",
   "execution_count": 19,
   "id": "6279a700-9011-4328-8839-0f006676d47e",
   "metadata": {},
   "outputs": [],
   "source": [
    "km = KMeans(n_clusters=3, random_state=2023).fit(XX)"
   ]
  },
  {
   "cell_type": "code",
   "execution_count": 20,
   "id": "4ba071f1-d07c-4e87-a8f8-101637642253",
   "metadata": {},
   "outputs": [
    {
     "data": {
      "text/plain": [
       "array([1, 1, 1, 1, 1, 1, 1, 1, 1, 1, 1, 1, 1, 1, 1, 1, 1, 1, 1, 1, 1, 1,\n",
       "       1, 1, 1, 1, 1, 1, 1, 1, 1, 1, 1, 1, 1, 1, 1, 1, 1, 1, 1, 1, 1, 1,\n",
       "       1, 1, 1, 1, 1, 1, 2, 2, 0, 2, 2, 2, 2, 2, 2, 2, 2, 2, 2, 2, 2, 2,\n",
       "       2, 2, 2, 2, 2, 2, 2, 2, 2, 2, 2, 0, 2, 2, 2, 2, 2, 2, 2, 2, 2, 2,\n",
       "       2, 2, 2, 2, 2, 2, 2, 2, 2, 2, 2, 2, 0, 2, 0, 0, 0, 0, 2, 0, 0, 0,\n",
       "       0, 0, 0, 2, 2, 0, 0, 0, 0, 2, 0, 2, 0, 2, 0, 0, 2, 2, 0, 0, 0, 0,\n",
       "       0, 2, 0, 0, 0, 0, 2, 0, 0, 0, 2, 0, 0, 0, 2, 0, 0, 2])"
      ]
     },
     "execution_count": 20,
     "metadata": {},
     "output_type": "execute_result"
    }
   ],
   "source": [
    "#km_lab = km[1]\n",
    "km.labels_"
   ]
  },
  {
   "cell_type": "code",
   "execution_count": 21,
   "id": "e99319cc-2777-47c5-9fe1-6dae4b6e618b",
   "metadata": {},
   "outputs": [],
   "source": [
    "CHI2 = calinski_harabasz_score(XX, yy)"
   ]
  },
  {
   "cell_type": "code",
   "execution_count": 22,
   "id": "5d4b1f3e-e2dc-489a-bd47-32004ca74c95",
   "metadata": {},
   "outputs": [
    {
     "name": "stdout",
     "output_type": "stream",
     "text": [
      "487.33087637489984\n"
     ]
    }
   ],
   "source": [
    "print(CHI2)"
   ]
  },
  {
   "cell_type": "code",
   "execution_count": 23,
   "id": "9ce4b07d-de08-4f4d-baa3-ffbef1db9446",
   "metadata": {},
   "outputs": [],
   "source": [
    "ms = MeanShift(bandwidth=0.85).fit(XX)"
   ]
  },
  {
   "cell_type": "code",
   "execution_count": 24,
   "id": "7cd61815-130b-4b9c-bc19-044ce452a6d1",
   "metadata": {},
   "outputs": [],
   "source": [
    "ms_labs = ms.labels_"
   ]
  },
  {
   "cell_type": "code",
   "execution_count": 25,
   "id": "9d4ebf22-f9f2-470a-a4b5-3f072aa4de2e",
   "metadata": {},
   "outputs": [],
   "source": [
    "CHI3 = calinski_harabasz_score(XX, ms_labs)"
   ]
  },
  {
   "cell_type": "code",
   "execution_count": 26,
   "id": "11eb9db4-fabf-4336-94ae-0ea717131e5c",
   "metadata": {},
   "outputs": [
    {
     "name": "stdout",
     "output_type": "stream",
     "text": [
      "560.1394503001885\n"
     ]
    }
   ],
   "source": [
    "print(CHI3)"
   ]
  },
  {
   "cell_type": "code",
   "execution_count": null,
   "id": "5a89bb89-f5ca-4851-aa7e-35d12782b697",
   "metadata": {},
   "outputs": [],
   "source": []
  },
  {
   "cell_type": "markdown",
   "id": "be59e428-f479-4e29-a32f-fdac0d9b3177",
   "metadata": {},
   "source": [
    "### Tabla Comparativa"
   ]
  },
  {
   "cell_type": "code",
   "execution_count": 27,
   "id": "e7635a9b-0fdd-456b-8ec4-d07774831e4a",
   "metadata": {},
   "outputs": [
    {
     "data": {
      "text/plain": [
       "array([0, 0, 0, 0, 0, 0, 0, 0, 0, 0, 0, 0, 0, 0, 0, 0, 0, 0, 0, 0, 0, 0,\n",
       "       0, 0, 0, 0, 0, 0, 0, 0, 0, 0, 0, 0, 0, 0, 0, 0, 0, 0, 0, 0, 0, 0,\n",
       "       0, 0, 0, 0, 0, 0, 1, 1, 1, 1, 1, 1, 1, 1, 1, 1, 1, 1, 1, 1, 1, 1,\n",
       "       1, 1, 1, 1, 1, 1, 1, 1, 1, 1, 1, 1, 1, 1, 1, 1, 1, 1, 1, 1, 1, 1,\n",
       "       1, 1, 1, 1, 1, 1, 1, 1, 1, 1, 1, 1, 2, 2, 2, 2, 2, 2, 2, 2, 2, 2,\n",
       "       2, 2, 2, 2, 2, 2, 2, 2, 2, 2, 2, 2, 2, 2, 2, 2, 2, 2, 2, 2, 2, 2,\n",
       "       2, 2, 2, 2, 2, 2, 2, 2, 2, 2, 2, 2, 2, 2, 2, 2, 2, 2])"
      ]
     },
     "execution_count": 27,
     "metadata": {},
     "output_type": "execute_result"
    }
   ],
   "source": [
    "yy"
   ]
  },
  {
   "cell_type": "code",
   "execution_count": 28,
   "id": "0a90e9c5-483a-4a4a-b83b-f7af297d95ec",
   "metadata": {},
   "outputs": [],
   "source": [
    "# Algoritmos de clustering a comparar\n",
    "\n",
    "km = KMeans(n_clusters=3, random_state=2023)\n",
    "ms = MeanShift(bandwidth=0.85)\n",
    "bi = Birch(n_clusters=3)\n",
    "sp = SpectralClustering(n_clusters=3, affinity='rbf', gamma=1.0)\n",
    "ah = AgglomerativeClustering(n_clusters=3, affinity='euclidean', linkage='ward')"
   ]
  },
  {
   "cell_type": "code",
   "execution_count": null,
   "id": "7d3678a8-3492-4b41-8961-922720116a24",
   "metadata": {},
   "outputs": [],
   "source": []
  },
  {
   "cell_type": "code",
   "execution_count": 29,
   "id": "bedf3bcd-e6fb-422a-a14f-d58e4b7d9efa",
   "metadata": {},
   "outputs": [],
   "source": [
    "methods = [km, ms, sp, bi, ah]\n",
    "names   = ['K-means', 'Mean-Shift', 'Spectral', 'Birch', 'Agglomerative']\n",
    "metrics = [rand_score, adjusted_rand_score, \n",
    "           mutual_info_score, normalized_mutual_info_score, adjusted_mutual_info_score, \n",
    "           homogeneity_score, completeness_score, v_measure_score, \n",
    "           fowlkes_mallows_score, calinski_harabasz_score]\n",
    "metr_names = ['RI','ARI','MI','NMI','AMI','H','C','V','FMI','CHI']"
   ]
  },
  {
   "cell_type": "code",
   "execution_count": 30,
   "id": "0787a12e-5d27-483b-8b7a-bd491e874a99",
   "metadata": {},
   "outputs": [],
   "source": [
    "n = len(methods)\n",
    "m = len(metrics)\n",
    "beta = 1."
   ]
  },
  {
   "cell_type": "code",
   "execution_count": 31,
   "id": "1feea072-a61d-4934-9228-cd3598f333b0",
   "metadata": {},
   "outputs": [],
   "source": [
    "yhat = []\n",
    "Met = np.zeros((m,n))\n",
    "\n",
    "for i in range(0, n):\n",
    "    clust = methods[i].fit(XX)\n",
    "    yhat.append(clust.labels_)\n",
    "    \n",
    "    for j in range(0, m):\n",
    "        if j == 7:\n",
    "                Met[j,i] = metrics[j](yy, yhat[i], beta=beta)\n",
    "        elif j == 9:\n",
    "            Met[j,i] = metrics[j](XX, yhat[i])\n",
    "        else:\n",
    "            Met[j,i] = metrics[j](yy, yhat[i])"
   ]
  },
  {
   "cell_type": "code",
   "execution_count": 32,
   "id": "d3a0cc6d-7fc4-4bf7-b7fd-98356db9fb1c",
   "metadata": {},
   "outputs": [],
   "source": [
    "df = pd.DataFrame(data=Met, index=metr_names, columns=names)"
   ]
  },
  {
   "cell_type": "code",
   "execution_count": 33,
   "id": "f14e9fbd-8369-4c4a-845a-87248512c7c4",
   "metadata": {},
   "outputs": [
    {
     "data": {
      "text/html": [
       "<div>\n",
       "<style scoped>\n",
       "    .dataframe tbody tr th:only-of-type {\n",
       "        vertical-align: middle;\n",
       "    }\n",
       "\n",
       "    .dataframe tbody tr th {\n",
       "        vertical-align: top;\n",
       "    }\n",
       "\n",
       "    .dataframe thead th {\n",
       "        text-align: right;\n",
       "    }\n",
       "</style>\n",
       "<table border=\"1\" class=\"dataframe\">\n",
       "  <thead>\n",
       "    <tr style=\"text-align: right;\">\n",
       "      <th></th>\n",
       "      <th>K-means</th>\n",
       "      <th>Mean-Shift</th>\n",
       "      <th>Spectral</th>\n",
       "      <th>Birch</th>\n",
       "      <th>Agglomerative</th>\n",
       "    </tr>\n",
       "  </thead>\n",
       "  <tbody>\n",
       "    <tr>\n",
       "      <th>RI</th>\n",
       "      <td>0.879732</td>\n",
       "      <td>0.885906</td>\n",
       "      <td>0.885906</td>\n",
       "      <td>0.819597</td>\n",
       "      <td>0.879732</td>\n",
       "    </tr>\n",
       "    <tr>\n",
       "      <th>ARI</th>\n",
       "      <td>0.730238</td>\n",
       "      <td>0.743683</td>\n",
       "      <td>0.745504</td>\n",
       "      <td>0.609625</td>\n",
       "      <td>0.731199</td>\n",
       "    </tr>\n",
       "    <tr>\n",
       "      <th>MI</th>\n",
       "      <td>0.825591</td>\n",
       "      <td>0.835346</td>\n",
       "      <td>0.864524</td>\n",
       "      <td>0.741240</td>\n",
       "      <td>0.835825</td>\n",
       "    </tr>\n",
       "    <tr>\n",
       "      <th>NMI</th>\n",
       "      <td>0.758176</td>\n",
       "      <td>0.766036</td>\n",
       "      <td>0.797989</td>\n",
       "      <td>0.705099</td>\n",
       "      <td>0.770084</td>\n",
       "    </tr>\n",
       "    <tr>\n",
       "      <th>AMI</th>\n",
       "      <td>0.755119</td>\n",
       "      <td>0.763083</td>\n",
       "      <td>0.795421</td>\n",
       "      <td>0.701217</td>\n",
       "      <td>0.767167</td>\n",
       "    </tr>\n",
       "    <tr>\n",
       "      <th>H</th>\n",
       "      <td>0.751485</td>\n",
       "      <td>0.760365</td>\n",
       "      <td>0.786923</td>\n",
       "      <td>0.674706</td>\n",
       "      <td>0.760801</td>\n",
       "    </tr>\n",
       "    <tr>\n",
       "      <th>C</th>\n",
       "      <td>0.764986</td>\n",
       "      <td>0.771792</td>\n",
       "      <td>0.809369</td>\n",
       "      <td>0.738360</td>\n",
       "      <td>0.779596</td>\n",
       "    </tr>\n",
       "    <tr>\n",
       "      <th>V</th>\n",
       "      <td>0.758176</td>\n",
       "      <td>0.766036</td>\n",
       "      <td>0.797989</td>\n",
       "      <td>0.705099</td>\n",
       "      <td>0.770084</td>\n",
       "    </tr>\n",
       "    <tr>\n",
       "      <th>FMI</th>\n",
       "      <td>0.820808</td>\n",
       "      <td>0.829449</td>\n",
       "      <td>0.832050</td>\n",
       "      <td>0.751487</td>\n",
       "      <td>0.822170</td>\n",
       "    </tr>\n",
       "    <tr>\n",
       "      <th>CHI</th>\n",
       "      <td>561.627757</td>\n",
       "      <td>560.139450</td>\n",
       "      <td>556.117692</td>\n",
       "      <td>458.472511</td>\n",
       "      <td>558.058041</td>\n",
       "    </tr>\n",
       "  </tbody>\n",
       "</table>\n",
       "</div>"
      ],
      "text/plain": [
       "        K-means  Mean-Shift    Spectral       Birch  Agglomerative\n",
       "RI     0.879732    0.885906    0.885906    0.819597       0.879732\n",
       "ARI    0.730238    0.743683    0.745504    0.609625       0.731199\n",
       "MI     0.825591    0.835346    0.864524    0.741240       0.835825\n",
       "NMI    0.758176    0.766036    0.797989    0.705099       0.770084\n",
       "AMI    0.755119    0.763083    0.795421    0.701217       0.767167\n",
       "H      0.751485    0.760365    0.786923    0.674706       0.760801\n",
       "C      0.764986    0.771792    0.809369    0.738360       0.779596\n",
       "V      0.758176    0.766036    0.797989    0.705099       0.770084\n",
       "FMI    0.820808    0.829449    0.832050    0.751487       0.822170\n",
       "CHI  561.627757  560.139450  556.117692  458.472511     558.058041"
      ]
     },
     "execution_count": 33,
     "metadata": {},
     "output_type": "execute_result"
    }
   ],
   "source": [
    "df"
   ]
  },
  {
   "cell_type": "markdown",
   "id": "1d6e3fcd-f319-4797-8e85-a6a7a9f75c17",
   "metadata": {},
   "source": [
    "### Visualización"
   ]
  },
  {
   "cell_type": "code",
   "execution_count": 34,
   "id": "5c858afb-191c-456b-97ba-a3aa80697878",
   "metadata": {},
   "outputs": [
    {
     "data": {
      "text/plain": [
       "K-means          0.782701\n",
       "Mean-Shift       0.791299\n",
       "Spectral         0.812853\n",
       "Birch            0.716270\n",
       "Agglomerative    0.790740\n",
       "dtype: float64"
      ]
     },
     "execution_count": 34,
     "metadata": {},
     "output_type": "execute_result"
    }
   ],
   "source": [
    "df.iloc[:-1,:].mean()"
   ]
  },
  {
   "cell_type": "code",
   "execution_count": 35,
   "id": "04832920-7c38-47a8-b351-d99fdc260d1e",
   "metadata": {},
   "outputs": [],
   "source": [
    "U, S, V = np.linalg.svd(XX)\n",
    "Proj = XX @ V[:,:2]"
   ]
  },
  {
   "cell_type": "code",
   "execution_count": 36,
   "id": "4c0c6444-3955-4b30-ab9f-8c22292fee38",
   "metadata": {},
   "outputs": [
    {
     "data": {
      "image/png": "[encoded data removed]",
      "text/plain": [
       "<Figure size 864x576 with 6 Axes>"
      ]
     },
     "metadata": {
      "needs_background": "light"
     },
     "output_type": "display_data"
    }
   ],
   "source": [
    "plt.figure(figsize=(12,8))\n",
    "plt.subplot(2,3,1)\n",
    "plt.xlabel('Ground-Truth')\n",
    "plt.scatter(Proj[:,0], Proj[:,1], marker='o', c=yy)\n",
    "for i in range(0, n):\n",
    "    plt.subplot(2,3,i+2)\n",
    "    plt.scatter(Proj[:,0], Proj[:,1], marker='o', c=yhat[i])\n",
    "    plt.xlabel(names[i])\n",
    "plt.show()"
   ]
  },
  {
   "cell_type": "code",
   "execution_count": 37,
   "id": "c8ef2bdf-edd7-464b-a1fd-36a4e4e9cbca",
   "metadata": {},
   "outputs": [
    {
     "data": {
      "image/png": "[encoded data removed]",
      "text/plain": [
       "<Figure size 1080x144 with 6 Axes>"
      ]
     },
     "metadata": {
      "needs_background": "light"
     },
     "output_type": "display_data"
    }
   ],
   "source": [
    "fig = plt.figure(figsize=(15,2))\n",
    "plt.subplot(1,6,1)\n",
    "plt.xlabel('Ground-Truth')\n",
    "plt.scatter(Proj[:,0], Proj[:,1], marker='o', c=yy)\n",
    "for i in range(0, n):\n",
    "    plt.subplot(1,6,i+2)\n",
    "    plt.scatter(Proj[:,0], Proj[:,1], marker='o', c=yhat[i])\n",
    "    plt.xlabel(names[i])\n",
    "plt.show()"
   ]
  },
  {
   "cell_type": "code",
   "execution_count": 38,
   "id": "b02f665d-9cc9-4adb-bfae-b928fd091710",
   "metadata": {},
   "outputs": [],
   "source": [
    "#fig.savefig('metrics.jpg', bbox_inches=('tight'))"
   ]
  },
  {
   "cell_type": "code",
   "execution_count": null,
   "id": "fac149bb-5f92-4163-a2c9-63199d31f659",
   "metadata": {},
   "outputs": [],
   "source": []
  },
  {
   "cell_type": "markdown",
   "id": "9925134b-3346-468d-90a4-4698d58497da",
   "metadata": {},
   "source": [
    "### Internal Metrics"
   ]
  },
  {
   "cell_type": "code",
   "execution_count": 39,
   "id": "6b0d87a5-4d54-41f9-aead-78f236c5ed2c",
   "metadata": {},
   "outputs": [],
   "source": [
    "methods = [km, ms, sp, bi, ah]\n",
    "names   = ['K-means', 'Mean-Shift', 'Spectral', 'Birch', 'Agglomerative']\n",
    "metrics = [davies_bouldin_score, silhouette_score]\n",
    "metr_names = ['Davies-Bouldin', 'Silhouette']"
   ]
  },
  {
   "cell_type": "code",
   "execution_count": 40,
   "id": "1bc6be72-cf90-484d-bf96-2ee9e92d0bc1",
   "metadata": {},
   "outputs": [],
   "source": [
    "n = len(methods)\n",
    "m = len(metrics)\n",
    "beta = 1."
   ]
  },
  {
   "cell_type": "code",
   "execution_count": 41,
   "id": "16b676a1-db7d-44e0-9f16-f71586acb659",
   "metadata": {},
   "outputs": [],
   "source": [
    "yhat = []\n",
    "Met = np.zeros((m,n))\n",
    "\n",
    "for i in range(0, n):\n",
    "    clust = methods[i].fit(XX)\n",
    "    yhat.append(clust.labels_)\n",
    "    \n",
    "    for j in range(0, m):\n",
    "        Met[j,i] = metrics[j](XX, yhat[i])"
   ]
  },
  {
   "cell_type": "code",
   "execution_count": 42,
   "id": "5e09b065-19b8-4793-af65-0f6183170f26",
   "metadata": {},
   "outputs": [],
   "source": [
    "df = pd.DataFrame(data=Met, index=metr_names, columns=names)"
   ]
  },
  {
   "cell_type": "code",
   "execution_count": 43,
   "id": "7e4196a1-f0d7-4853-bd74-f1f656980063",
   "metadata": {},
   "outputs": [
    {
     "data": {
      "text/html": [
       "<div>\n",
       "<style scoped>\n",
       "    .dataframe tbody tr th:only-of-type {\n",
       "        vertical-align: middle;\n",
       "    }\n",
       "\n",
       "    .dataframe tbody tr th {\n",
       "        vertical-align: top;\n",
       "    }\n",
       "\n",
       "    .dataframe thead th {\n",
       "        text-align: right;\n",
       "    }\n",
       "</style>\n",
       "<table border=\"1\" class=\"dataframe\">\n",
       "  <thead>\n",
       "    <tr style=\"text-align: right;\">\n",
       "      <th></th>\n",
       "      <th>K-means</th>\n",
       "      <th>Mean-Shift</th>\n",
       "      <th>Spectral</th>\n",
       "      <th>Birch</th>\n",
       "      <th>Agglomerative</th>\n",
       "    </tr>\n",
       "  </thead>\n",
       "  <tbody>\n",
       "    <tr>\n",
       "      <th>Davies-Bouldin</th>\n",
       "      <td>0.661972</td>\n",
       "      <td>0.665852</td>\n",
       "      <td>0.653860</td>\n",
       "      <td>0.625831</td>\n",
       "      <td>0.656256</td>\n",
       "    </tr>\n",
       "    <tr>\n",
       "      <th>Silhouette</th>\n",
       "      <td>0.552819</td>\n",
       "      <td>0.551157</td>\n",
       "      <td>0.555306</td>\n",
       "      <td>0.501952</td>\n",
       "      <td>0.554324</td>\n",
       "    </tr>\n",
       "  </tbody>\n",
       "</table>\n",
       "</div>"
      ],
      "text/plain": [
       "                 K-means  Mean-Shift  Spectral     Birch  Agglomerative\n",
       "Davies-Bouldin  0.661972    0.665852  0.653860  0.625831       0.656256\n",
       "Silhouette      0.552819    0.551157  0.555306  0.501952       0.554324"
      ]
     },
     "execution_count": 43,
     "metadata": {},
     "output_type": "execute_result"
    }
   ],
   "source": [
    "df"
   ]
  },
  {
   "cell_type": "markdown",
   "id": "35fe6b48-08f7-45da-b4b7-823c21c3b540",
   "metadata": {},
   "source": [
    "### Visualización"
   ]
  },
  {
   "cell_type": "code",
   "execution_count": 44,
   "id": "10abaa34-f8b5-4459-a15d-20e51b8dcaa1",
   "metadata": {},
   "outputs": [
    {
     "data": {
      "text/plain": [
       "K-means          0.661972\n",
       "Mean-Shift       0.665852\n",
       "Spectral         0.653860\n",
       "Birch            0.625831\n",
       "Agglomerative    0.656256\n",
       "dtype: float64"
      ]
     },
     "execution_count": 44,
     "metadata": {},
     "output_type": "execute_result"
    }
   ],
   "source": [
    "df.iloc[:-1,:].mean()"
   ]
  },
  {
   "cell_type": "code",
   "execution_count": null,
   "id": "a7258631-0584-419f-8ce8-2ab966e54140",
   "metadata": {},
   "outputs": [],
   "source": []
  }
 ],
 "metadata": {
  "kernelspec": {
   "display_name": "Python 3",
   "language": "python",
   "name": "python3"
  },
  "language_info": {
   "codemirror_mode": {
    "name": "ipython",
    "version": 3
   },
   "file_extension": ".py",
   "mimetype": "text/x-python",
   "name": "python",
   "nbconvert_exporter": "python",
   "pygments_lexer": "ipython3",
   "version": "3.8.8"
  }
 },
 "nbformat": 4,
 "nbformat_minor": 5
}
